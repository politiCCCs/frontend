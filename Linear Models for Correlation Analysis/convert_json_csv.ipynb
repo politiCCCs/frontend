{
 "cells": [
  {
   "cell_type": "code",
   "execution_count": 3,
   "id": "domestic-flush",
   "metadata": {},
   "outputs": [],
   "source": [
    "import pandas as pd"
   ]
  },
  {
   "cell_type": "code",
   "execution_count": 12,
   "id": "wanted-doctrine",
   "metadata": {},
   "outputs": [],
   "source": [
    "pd.set_option('display.max_rows', 500)"
   ]
  },
  {
   "cell_type": "code",
   "execution_count": 14,
   "id": "expected-shopping",
   "metadata": {},
   "outputs": [],
   "source": [
    "likesVsVotes = pd.read_json(\"likesVsVotes.json\")\n",
    "\n",
    "likesVsVotes.to_csv(\"likesVsVotes.csv\")"
   ]
  },
  {
   "cell_type": "code",
   "execution_count": 20,
   "id": "clear-treatment",
   "metadata": {},
   "outputs": [],
   "source": [
    "retweetsVsVotes = pd.read_json(\"retweetsVsVotes.json\")\n",
    "\n",
    "retweetsVsVotes.to_csv(\"retweetsVsVotes.csv\")"
   ]
  },
  {
   "cell_type": "code",
   "execution_count": 21,
   "id": "intellectual-professional",
   "metadata": {},
   "outputs": [],
   "source": [
    "sentimentVsVotes = pd.read_json(\"sentimentVsVotes.json\")\n",
    "\n",
    "sentimentVsVotes.to_csv(\"sentimentVsVotes.csv\")"
   ]
  },
  {
   "cell_type": "code",
   "execution_count": 22,
   "id": "spoken-rugby",
   "metadata": {},
   "outputs": [],
   "source": [
    "sentimentVsVotes = pd.read_json(\"tweetsVsVotes.json\")\n",
    "\n",
    "sentimentVsVotes.to_csv(\"tweetsVsVotes.csv\")"
   ]
  },
  {
   "cell_type": "code",
   "execution_count": null,
   "id": "owned-forum",
   "metadata": {},
   "outputs": [],
   "source": []
  }
 ],
 "metadata": {
  "kernelspec": {
   "display_name": "Python [conda env:minimal_ds] *",
   "language": "python",
   "name": "conda-env-minimal_ds-py"
  },
  "language_info": {
   "codemirror_mode": {
    "name": "ipython",
    "version": 3
   },
   "file_extension": ".py",
   "mimetype": "text/x-python",
   "name": "python",
   "nbconvert_exporter": "python",
   "pygments_lexer": "ipython3",
   "version": "3.8.6"
  }
 },
 "nbformat": 4,
 "nbformat_minor": 5
}
